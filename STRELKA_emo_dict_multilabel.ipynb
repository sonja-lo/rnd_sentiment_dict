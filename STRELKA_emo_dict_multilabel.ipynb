{
 "cells": [
  {
   "cell_type": "code",
   "execution_count": 1,
   "metadata": {},
   "outputs": [],
   "source": [
    "import numpy as np\n",
    "import pandas as pd\n",
    "\n",
    "import spacy"
   ]
  },
  {
   "cell_type": "code",
   "execution_count": 2,
   "metadata": {},
   "outputs": [],
   "source": [
    "pd.set_option('display.max_rows', 1000)\n",
    "pd.set_option('display.max_columns', 1000)\n",
    "\n",
    "random_state=42\n",
    "\n",
    "nlp = spacy.load(\"ru2\")\n",
    "nlp.add_pipe(nlp.create_pipe('sentencizer'), first=True)"
   ]
  },
  {
   "cell_type": "code",
   "execution_count": 8,
   "metadata": {},
   "outputs": [],
   "source": [
    "# loading dicts\n",
    "\n",
    "neg = pd.read_excel(r\"D:\\STRELKA\\15_PLATFORM\\emo\\neg_diff.xlsx\")\n",
    "pos = pd.read_excel(r\"D:\\STRELKA\\15_PLATFORM\\emo\\pos_diff.xlsx\")"
   ]
  },
  {
   "cell_type": "code",
   "execution_count": 9,
   "metadata": {},
   "outputs": [
    {
     "data": {
      "text/plain": [
       "226"
      ]
     },
     "execution_count": 9,
     "metadata": {},
     "output_type": "execute_result"
    }
   ],
   "source": [
    "df = pd.read_excel(r\"D:\\STRELKA\\23_DOMRF\\dialogs_suzdal.xlsx\")\n",
    "df = df.drop_duplicates(subset=['message'])\n",
    "len(df)"
   ]
  },
  {
   "cell_type": "code",
   "execution_count": 10,
   "metadata": {},
   "outputs": [],
   "source": [
    "# strong and weak word markers\n",
    "\n",
    "neg_weak = set(neg[neg['new_label'] == -1]['word'])\n",
    "neg_strong = set(neg[neg['new_label'] == -2]['word'])\n",
    "\n",
    "pos_weak = set(pos[pos['new_label'] == 1]['word'])\n",
    "pos_strong = set(pos[pos['new_label'] == 2]['word'])"
   ]
  },
  {
   "cell_type": "code",
   "execution_count": 11,
   "metadata": {},
   "outputs": [],
   "source": [
    "df['pos_label'] = np.nan\n",
    "df['neg_label'] = np.nan\n",
    "\n",
    "for i, text in enumerate(df.message.values):\n",
    "    lemm_set = set([t.lemma_ for t in nlp(str(text))])\n",
    "    \n",
    "    if (lemm_set & neg_strong) or (len(lemm_set & neg_weak) >= 2):\n",
    "        df.iat[i, 3] = 1\n",
    "    else:\n",
    "        df.iat[i, 3] = 0\n",
    "        \n",
    "    if (lemm_set & pos_strong) or (len(lemm_set & pos_weak) >= 2):\n",
    "        df.iat[i, 2] = 1\n",
    "    else:\n",
    "        df.iat[i, 2] = 0"
   ]
  }
 ],
 "metadata": {
  "kernelspec": {
   "display_name": "Python 3",
   "language": "python",
   "name": "python3"
  },
  "language_info": {
   "codemirror_mode": {
    "name": "ipython",
    "version": 3
   },
   "file_extension": ".py",
   "mimetype": "text/x-python",
   "name": "python",
   "nbconvert_exporter": "python",
   "pygments_lexer": "ipython3",
   "version": "3.7.6"
  }
 },
 "nbformat": 4,
 "nbformat_minor": 4
}
