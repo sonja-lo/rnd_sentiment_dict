{
 "cells": [
  {
   "cell_type": "code",
   "execution_count": 2,
   "metadata": {},
   "outputs": [],
   "source": [
    "import numpy as np\n",
    "import pandas as pd\n",
    "\n",
    "import spacy"
   ]
  },
  {
   "cell_type": "code",
   "execution_count": 2,
   "metadata": {},
   "outputs": [],
   "source": [
    "pd.set_option('display.max_rows', 1000)\n",
    "pd.set_option('display.max_columns', 1000)\n",
    "\n",
    "random_state=42\n",
    "\n",
    "nlp = spacy.load(\"ru2\")\n",
    "nlp.add_pipe(nlp.create_pipe('sentencizer'), first=True)"
   ]
  },
  {
   "cell_type": "code",
   "execution_count": 3,
   "metadata": {},
   "outputs": [],
   "source": [
    "# loading dicts\n",
    "\n",
    "neg = pd.read_excel(r\"D:\\STRELKA\\15_PLATFORM\\emo\\neg_diff.xlsx\")\n",
    "pos = pd.read_excel(r\"D:\\STRELKA\\15_PLATFORM\\emo\\pos_diff.xlsx\")"
   ]
  },
  {
   "cell_type": "code",
   "execution_count": 4,
   "metadata": {},
   "outputs": [
    {
     "data": {
      "text/plain": [
       "226"
      ]
     },
     "execution_count": 4,
     "metadata": {},
     "output_type": "execute_result"
    }
   ],
   "source": [
    "df = pd.read_excel(r\"D:\\STRELKA\\23_DOMRF\\dialogs_suzdal.xlsx\")\n",
    "df = df.drop_duplicates(subset=['message'])\n",
    "len(df)"
   ]
  },
  {
   "cell_type": "code",
   "execution_count": 5,
   "metadata": {},
   "outputs": [
    {
     "data": {
      "text/html": [
       "<div>\n",
       "<style scoped>\n",
       "    .dataframe tbody tr th:only-of-type {\n",
       "        vertical-align: middle;\n",
       "    }\n",
       "\n",
       "    .dataframe tbody tr th {\n",
       "        vertical-align: top;\n",
       "    }\n",
       "\n",
       "    .dataframe thead th {\n",
       "        text-align: right;\n",
       "    }\n",
       "</style>\n",
       "<table border=\"1\" class=\"dataframe\">\n",
       "  <thead>\n",
       "    <tr style=\"text-align: right;\">\n",
       "      <th></th>\n",
       "      <th>ID</th>\n",
       "      <th>message</th>\n",
       "    </tr>\n",
       "  </thead>\n",
       "  <tbody>\n",
       "    <tr>\n",
       "      <th>0</th>\n",
       "      <td>a524e582-93de-4049-b745-3044b792e683</td>\n",
       "      <td>Мне очень нравится Суздаль. Я торгую на ул. Кр...</td>\n",
       "    </tr>\n",
       "    <tr>\n",
       "      <th>2</th>\n",
       "      <td>c78da3c5-5850-44ea-8a99-f622700f63ca</td>\n",
       "      <td>В центре Суздаля, где торговые палатки и Заряд...</td>\n",
       "    </tr>\n",
       "    <tr>\n",
       "      <th>4</th>\n",
       "      <td>29d83c5d-c561-4760-8a4a-c99ef15828d5</td>\n",
       "      <td>Суздаль - мог бы быть отличным городом, если б...</td>\n",
       "    </tr>\n",
       "    <tr>\n",
       "      <th>6</th>\n",
       "      <td>b5a32629-553c-4e52-b4b1-e53ce987759e</td>\n",
       "      <td>И вот еще</td>\n",
       "    </tr>\n",
       "    <tr>\n",
       "      <th>8</th>\n",
       "      <td>633e4b40-7a90-4e88-9715-5984aeb0cb7d</td>\n",
       "      <td>Вот такой вот объект красиивый!</td>\n",
       "    </tr>\n",
       "  </tbody>\n",
       "</table>\n",
       "</div>"
      ],
      "text/plain": [
       "                                     ID  \\\n",
       "0  a524e582-93de-4049-b745-3044b792e683   \n",
       "2  c78da3c5-5850-44ea-8a99-f622700f63ca   \n",
       "4  29d83c5d-c561-4760-8a4a-c99ef15828d5   \n",
       "6  b5a32629-553c-4e52-b4b1-e53ce987759e   \n",
       "8  633e4b40-7a90-4e88-9715-5984aeb0cb7d   \n",
       "\n",
       "                                             message  \n",
       "0  Мне очень нравится Суздаль. Я торгую на ул. Кр...  \n",
       "2  В центре Суздаля, где торговые палатки и Заряд...  \n",
       "4  Суздаль - мог бы быть отличным городом, если б...  \n",
       "6                                         И вот еще   \n",
       "8                    Вот такой вот объект красиивый!  "
      ]
     },
     "execution_count": 5,
     "metadata": {},
     "output_type": "execute_result"
    }
   ],
   "source": [
    "df.head()"
   ]
  },
  {
   "cell_type": "code",
   "execution_count": 6,
   "metadata": {},
   "outputs": [],
   "source": [
    "# strong and weak word markers\n",
    "\n",
    "neg_weak = set(neg[neg['new_label'] == -1]['word'])\n",
    "neg_strong = set(neg[neg['new_label'] == -2]['word'])\n",
    "\n",
    "pos_weak = set(pos[pos['new_label'] == 1]['word'])\n",
    "pos_strong = set(pos[pos['new_label'] == 2]['word'])"
   ]
  },
  {
   "cell_type": "code",
   "execution_count": 7,
   "metadata": {},
   "outputs": [],
   "source": [
    "def sent(text):\n",
    "    doc = nlp(text)\n",
    "    lemm_set = set([t.lemma_ for t in doc])\n",
    "    \n",
    "    if lemm_set & neg_strong:\n",
    "        return -1\n",
    "    \n",
    "    if len(lemm_set & neg_weak) >= 2:\n",
    "        return -1\n",
    "    \n",
    "    if lemm_set & pos_strong:\n",
    "        return 1\n",
    "    \n",
    "    if len(lemm_set & pos_weak) >= 2:\n",
    "        return 1\n",
    "    \n",
    "    return 0"
   ]
  },
  {
   "cell_type": "code",
   "execution_count": 10,
   "metadata": {},
   "outputs": [],
   "source": [
    "emo_label = [sent(str(text)) for text in df.message.values]\n",
    "\n",
    "df['emo_label'] = emo_label"
   ]
  },
  {
   "cell_type": "code",
   "execution_count": 12,
   "metadata": {},
   "outputs": [],
   "source": [
    "df.to_csv(r\"D:\\STRELKA\\23_DOMRF\\suzdal_sent_dict_res.csv\", index=None)\n",
    "df.to_excel(r\"D:\\STRELKA\\23_DOMRF\\suzdal_sent_dict_res.xlsx\", index=None)"
   ]
  }
 ],
 "metadata": {
  "kernelspec": {
   "display_name": "Python 3",
   "language": "python",
   "name": "python3"
  },
  "language_info": {
   "codemirror_mode": {
    "name": "ipython",
    "version": 3
   },
   "file_extension": ".py",
   "mimetype": "text/x-python",
   "name": "python",
   "nbconvert_exporter": "python",
   "pygments_lexer": "ipython3",
   "version": "3.7.6"
  }
 },
 "nbformat": 4,
 "nbformat_minor": 4
}
